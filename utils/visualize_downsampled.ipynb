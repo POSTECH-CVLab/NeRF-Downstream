{
 "cells": [
  {
   "cell_type": "code",
   "execution_count": 14,
   "metadata": {},
   "outputs": [],
   "source": [
    "import os\n",
    "import torch\n",
    "import numpy as np\n",
    "import open3d as o3d"
   ]
  },
  {
   "cell_type": "code",
   "execution_count": 15,
   "metadata": {},
   "outputs": [],
   "source": [
    "ckpt_prepro_path = \"/home/yoonwoo/data/perfception/preprocessed\"\n",
    "ckpt_orig_path = \"/home/yoonwoo/data/perfception/perfception_co3d\"\n",
    "scene_name = \"plenoxel_co3d_96_10750_18972\""
   ]
  },
  {
   "cell_type": "code",
   "execution_count": 17,
   "metadata": {},
   "outputs": [],
   "source": [
    "s_orig = np.load(os.path.join(ckpt_prepro_path, scene_name, \"data.npz\"))\n",
    "links = s_orig[\"links\"]\n",
    "links_idx = np.stack([links // (128 * 128), links % (128 * 128) // 128, links % 128])\n",
    "coords = links_idx / 128\n",
    "pcd = o3d.geometry.PointCloud()\n",
    "pcd.points = o3d.utility.Vector3dVector(coords.T)"
   ]
  },
  {
   "cell_type": "code",
   "execution_count": 25,
   "metadata": {},
   "outputs": [
    {
     "name": "stderr",
     "output_type": "stream",
     "text": [
      "/tmp/ipykernel_1595581/2324735959.py:3: UserWarning: __floordiv__ is deprecated, and its behavior will change in a future version of pytorch. It currently rounds toward 0 (like the 'trunc' function NOT 'floor'). This results in incorrect rounding for negative values. To keep the current behavior, use torch.div(a, b, rounding_mode='trunc'), or for actual floor division, use torch.div(a, b, rounding_mode='floor').\n",
      "  links_idx = torch.stack([links // (256 * 256), links % (256 * 256) // 256, links % 256])\n"
     ]
    }
   ],
   "source": [
    "s_orig = torch.load(os.path.join(ckpt_orig_path, scene_name, \"last.ckpt\"))\n",
    "links = s_orig[\"state_dict\"][\"model.links_idx\"]\n",
    "links_idx = torch.stack([links // (256 * 256), links % (256 * 256) // 256, links % 256])\n",
    "coords = (links_idx / 256).numpy()\n",
    "pcd2 = o3d.geometry.PointCloud()\n",
    "pcd2.points = o3d.utility.Vector3dVector(coords.T)\n",
    "o3d.visualization.draw_geometries([pcd2])"
   ]
  },
  {
   "cell_type": "code",
   "execution_count": null,
   "metadata": {},
   "outputs": [],
   "source": [
    "s = torch.load()"
   ]
  }
 ],
 "metadata": {
  "interpreter": {
   "hash": "68f3718ea42175570df1c98c46be3c56e287215895583cda485fe92d043b42e4"
  },
  "kernelspec": {
   "display_name": "Python 3.8.5 ('atp')",
   "language": "python",
   "name": "python3"
  },
  "language_info": {
   "codemirror_mode": {
    "name": "ipython",
    "version": 3
   },
   "file_extension": ".py",
   "mimetype": "text/x-python",
   "name": "python",
   "nbconvert_exporter": "python",
   "pygments_lexer": "ipython3",
   "version": "3.8.5"
  },
  "orig_nbformat": 4
 },
 "nbformat": 4,
 "nbformat_minor": 2
}
